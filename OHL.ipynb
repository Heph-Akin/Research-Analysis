{
 "cells": [
  {
   "cell_type": "code",
   "execution_count": null,
   "metadata": {},
   "outputs": [],
   "source": [
    "import pandas as pd\n",
    "\n",
    "# Import CSV file into a pandas DataFrame\n",
    "file_path = r\"C:\\Users\\user\\Downloads\\Docs\\Akinboboye Data\\motivation.csv\"\n",
    "df = pd.read_csv(file_path)\n",
    "\n",
    "# Create dummy variables from the \"limit\" variable\n",
    "df_dummies = pd.get_dummies(df['limit'], prefix='limit', drop_first=True)\n",
    "\n",
    "# Concatenate the dummy variables with the original DataFrame\n",
    "df_final = pd.concat([df, df_dummies], axis=1)\n",
    "\n",
    "# Display the first few rows of the final DataFrame\n",
    "print(df_final.head())"
   ]
  }
 ],
 "metadata": {
  "language_info": {
   "name": "python"
  }
 },
 "nbformat": 4,
 "nbformat_minor": 2
}
